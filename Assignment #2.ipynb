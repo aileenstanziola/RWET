{
 "cells": [
  {
   "cell_type": "code",
   "execution_count": 2,
   "metadata": {},
   "outputs": [
    {
     "name": "stdout",
     "output_type": "stream",
     "text": [
      "it's brain. And bitter. creative! Pretty now, you. I\n",
      "cleaning are again. to pictures cleaning don't' I'm\n",
      "painting, You be be I'm be again. my will to prove...that\n",
      "soon my again. I'm will to don't cleaning, now, I I to\n",
      "cleaning, I'm creative! All I'm am painting I'm quitter.\n",
      "going have a prove...that am finished bitter. now it I'm\n",
      "painting painting, 'til soon Pretty now, have can't I'm\n",
      "confused I will take I'm soon I I me see Pretty\n"
     ]
    }
   ],
   "source": [
    "import random\n",
    "import textwrap\n",
    "\n",
    "newspaper = \"\"\"\n",
    "I'm painting, I'm painting again.\n",
    "I'm painting, I'm painting again.\n",
    "I'm cleaning, I'm cleaning again.\n",
    "I'm cleaning, I'm cleaning my brain.\n",
    "Pretty soon now, I will be bitter.\n",
    "Pretty soon now, will be a quitter.\n",
    "Pretty soon now, I will be bitter.\n",
    "You can't see it 'til it's finished\n",
    "I don't have to prove...that I am creative!\n",
    "I don't' have to prove...that I am creative!\n",
    "All my pictures are confused\n",
    "And now I'm going to take me to you.\"\"\"\n",
    "\n",
    "words = newspaper.split()\n",
    "random.shuffle(words)\n",
    "\n",
    "print(textwrap.fill(\" \".join(words), 60))"
   ]
  },
  {
   "cell_type": "code",
   "execution_count": 10,
   "metadata": {},
   "outputs": [
    {
     "name": "stdout",
     "output_type": "stream",
     "text": [
      "ourselves. mortality mourn, no day As imperfect for we we\n",
      "for our As aware very our by that push as As beings, failed\n",
      "or so we losses be were. all. even not complication, it\n",
      "mortal we of away, longer. that wired will We when we mourn\n",
      "at also better one are worse, are we\n"
     ]
    }
   ],
   "source": [
    "import random\n",
    "import textwrap\n",
    "\n",
    "newspaper = \"\"\"\n",
    "We are imperfect mortal beings, aware of that mortality even as we push it away, failed by our very complication, so wired that when we mourn our losses we also mourn, for better or for worse, ourselves. As we were. As we are no longer. As we will one day not be at all.\"\"\"\n",
    "\n",
    "\n",
    "words = newspaper.split()\n",
    "random.shuffle(words)\n",
    "\n",
    "print(textwrap.fill(\" \".join(words), 60))"
   ]
  },
  {
   "cell_type": "code",
   "execution_count": null,
   "metadata": {},
   "outputs": [],
   "source": []
  }
 ],
 "metadata": {
  "kernelspec": {
   "display_name": "Python 3",
   "language": "python",
   "name": "python3"
  },
  "language_info": {
   "codemirror_mode": {
    "name": "ipython",
    "version": 3
   },
   "file_extension": ".py",
   "mimetype": "text/x-python",
   "name": "python",
   "nbconvert_exporter": "python",
   "pygments_lexer": "ipython3",
   "version": "3.7.1"
  }
 },
 "nbformat": 4,
 "nbformat_minor": 2
}
