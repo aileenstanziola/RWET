{
 "cells": [
  {
   "cell_type": "code",
   "execution_count": 1,
   "metadata": {},
   "outputs": [
    {
     "name": "stdout",
     "output_type": "stream",
     "text": [
      "Requirement already satisfied: tracery in /anaconda3/lib/python3.7/site-packages (0.1.1)\r\n"
     ]
    }
   ],
   "source": [
    "!pip install tracery"
   ]
  },
  {
   "cell_type": "code",
   "execution_count": 2,
   "metadata": {},
   "outputs": [],
   "source": [
    "import tracery"
   ]
  },
  {
   "cell_type": "code",
   "execution_count": 3,
   "metadata": {},
   "outputs": [],
   "source": [
    "from tracery.modifiers import base_english"
   ]
  },
  {
   "cell_type": "code",
   "execution_count": 22,
   "metadata": {},
   "outputs": [],
   "source": [
    "places = [\n",
    "    \"Union Square\",\n",
    "    \"East Village\",\n",
    "    \"105 E. 15th St.\",\n",
    "    \"Upper West Side\",\n",
    "    \"51 W. 86th St.\",\n",
    "    \"647 E. 11th St.\",\n",
    "    \"Panama\",\n",
    "    \"San Francisco\",\n",
    "    \"Calle 74\",\n",
    "    \"The Regent\",\n",
    "    \"La Casita\",\n",
    "    \"B-Side\",\n",
    "    \"Sly Fox\",\n",
    "    \"Sorrento\"\n",
    "]"
   ]
  },
  {
   "cell_type": "code",
   "execution_count": 34,
   "metadata": {},
   "outputs": [],
   "source": [
    "songs = [\n",
    "    \"This is the Day\",\n",
    "    \"This Must Be The Place\",\n",
    "    \"The Man in Me\",\n",
    "    \"Last Train to London\",\n",
    "    \"This Guy's in Love with You\",\n",
    "    \"She's All I Got\",\n",
    "    \"Hard Times are Over\",\n",
    "    \"Into the Mystic\",\n",
    "    \"Don't Worry Baby\",\n",
    "    \"Long Promised Road\"\n",
    "]"
   ]
  },
  {
   "cell_type": "code",
   "execution_count": 24,
   "metadata": {},
   "outputs": [],
   "source": [
    "action = [\n",
    "    \"doing drugs until 8 a.m.\",\n",
    "    \"reading graphic novels\",\n",
    "    \"having sex until morning came\",\n",
    "    \"talking about the future\",\n",
    "    \"making art\"\n",
    "]"
   ]
  },
  {
   "cell_type": "code",
   "execution_count": 36,
   "metadata": {},
   "outputs": [],
   "source": [
    "ending = [\n",
    "    \"all the money in the world couldn't buy back those days\",\n",
    "    \"I knew I was yours forever\",\n",
    "    \"I was finally home\",\n",
    "    \"I knew this was it\"\n",
    "]"
   ]
  },
  {
   "cell_type": "code",
   "execution_count": 38,
   "metadata": {},
   "outputs": [],
   "source": [
    "age = [\n",
    "    \"twenty-three\",\n",
    "    \"twenty-four\",\n",
    "    \"twenty-five\",\n",
    "    \"twenty-six\",\n",
    "    \"twenty-seven\",\n",
    "    \"twenty-eight\",\n",
    "    \"twenty-nine\",\n",
    "    \"thirty\"\n",
    "]"
   ]
  },
  {
   "cell_type": "code",
   "execution_count": 70,
   "metadata": {},
   "outputs": [
    {
     "name": "stdout",
     "output_type": "stream",
     "text": [
      "We were twenty-seven \n",
      "listening to This is the Day at Sly Fox, \n",
      "reading graphic novels. \n",
      "And I knew, I knew this was it.\n",
      "\n"
     ]
    }
   ],
   "source": [
    "rules = {\n",
    "        \"origin\": \"We were #age# \\nlistening to #songs# at #places#, \\n#action#. \\nAnd I knew, #ending#.\"\n",
    "    ,\n",
    "        \"songs\": songs, \n",
    "        \"places\": places,\n",
    "        \"action\": action,\n",
    "        \"ending\": ending,\n",
    "        \"age\": age,\n",
    "}\n",
    "grammar = tracery.Grammar(rules)\n",
    "grammar.add_modifiers(base_english)\n",
    "print(grammar.flatten(\"#origin#\"+\"\\n\"))"
   ]
  },
  {
   "cell_type": "code",
   "execution_count": null,
   "metadata": {},
   "outputs": [],
   "source": []
  },
  {
   "cell_type": "code",
   "execution_count": null,
   "metadata": {},
   "outputs": [],
   "source": []
  }
 ],
 "metadata": {
  "kernelspec": {
   "display_name": "Python 3",
   "language": "python",
   "name": "python3"
  },
  "language_info": {
   "codemirror_mode": {
    "name": "ipython",
    "version": 3
   },
   "file_extension": ".py",
   "mimetype": "text/x-python",
   "name": "python",
   "nbconvert_exporter": "python",
   "pygments_lexer": "ipython3",
   "version": "3.7.1"
  }
 },
 "nbformat": 4,
 "nbformat_minor": 2
}
