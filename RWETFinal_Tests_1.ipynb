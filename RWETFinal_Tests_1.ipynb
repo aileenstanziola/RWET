{
 "cells": [
  {
   "cell_type": "code",
   "execution_count": 1,
   "metadata": {},
   "outputs": [],
   "source": [
    "import annoy\n",
    "import random \n",
    "import numpy as np\n",
    "import json"
   ]
  },
  {
   "cell_type": "code",
   "execution_count": 2,
   "metadata": {},
   "outputs": [],
   "source": [
    "import spacy\n",
    "import en_core_web_md"
   ]
  },
  {
   "cell_type": "code",
   "execution_count": 3,
   "metadata": {},
   "outputs": [],
   "source": [
    "from simpleneighbors import SimpleNeighbors"
   ]
  },
  {
   "cell_type": "code",
   "execution_count": 4,
   "metadata": {},
   "outputs": [],
   "source": [
    "from collections import Counter"
   ]
  },
  {
   "cell_type": "code",
   "execution_count": 5,
   "metadata": {},
   "outputs": [],
   "source": [
    "import markovify"
   ]
  },
  {
   "cell_type": "code",
   "execution_count": 6,
   "metadata": {},
   "outputs": [],
   "source": [
    "import tracery"
   ]
  },
  {
   "cell_type": "code",
   "execution_count": 7,
   "metadata": {},
   "outputs": [],
   "source": [
    "from tracery.modifiers import base_english"
   ]
  },
  {
   "cell_type": "code",
   "execution_count": 8,
   "metadata": {},
   "outputs": [],
   "source": [
    "import pronouncing as pr"
   ]
  },
  {
   "cell_type": "code",
   "execution_count": 9,
   "metadata": {},
   "outputs": [],
   "source": [
    "nlp = spacy.load('en_core_web_md')"
   ]
  },
  {
   "cell_type": "code",
   "execution_count": 115,
   "metadata": {},
   "outputs": [],
   "source": [
    "text = open(\"metamorphosis.txt\").read()"
   ]
  },
  {
   "cell_type": "code",
   "execution_count": 116,
   "metadata": {},
   "outputs": [],
   "source": [
    "doc = nlp(text)"
   ]
  },
  {
   "cell_type": "code",
   "execution_count": 117,
   "metadata": {},
   "outputs": [],
   "source": [
    "nouns = [item.text for item in doc if item.tag_ == 'NN']"
   ]
  },
  {
   "cell_type": "code",
   "execution_count": 118,
   "metadata": {},
   "outputs": [],
   "source": [
    "advs = [item.text for item in doc if item.tag_ == 'WRB']"
   ]
  },
  {
   "cell_type": "code",
   "execution_count": 119,
   "metadata": {},
   "outputs": [],
   "source": [
    "verbs = [item.text for item in doc if item.tag_ == 'VBG']"
   ]
  },
  {
   "cell_type": "code",
   "execution_count": 120,
   "metadata": {},
   "outputs": [],
   "source": [
    "prnouns = [item.text for item in doc if item.tag_ == 'PRP']"
   ]
  },
  {
   "cell_type": "code",
   "execution_count": 121,
   "metadata": {},
   "outputs": [],
   "source": [
    "adjs = [item.text for item in doc if item.tag_ == 'JJ']"
   ]
  },
  {
   "cell_type": "code",
   "execution_count": 122,
   "metadata": {},
   "outputs": [],
   "source": [
    "det = [item.text for item in doc if item.tag_ == 'DT']"
   ]
  },
  {
   "cell_type": "code",
   "execution_count": 136,
   "metadata": {},
   "outputs": [],
   "source": [
    "cj = [\"and\", \"or\", \"but\", \"for\", \"nor\", \"yet\", \"so\"]"
   ]
  },
  {
   "cell_type": "code",
   "execution_count": 124,
   "metadata": {},
   "outputs": [],
   "source": [
    "pp = [item.text for item in doc if item.tag_ == 'IN']"
   ]
  },
  {
   "cell_type": "code",
   "execution_count": 94,
   "metadata": {},
   "outputs": [
    {
     "name": "stdout",
     "output_type": "stream",
     "text": [
      "A a DET DT\n",
      "kind kind NOUN NN\n",
      "in in ADP IN\n",
      "glass glass NOUN NN\n",
      "and and CCONJ CC\n",
      "a a DET DT\n",
      "cousin cousin NOUN NN\n",
      ", , PUNCT ,\n",
      "a a DET DT\n",
      "spectacle spectacle NOUN NN\n",
      "and and CCONJ CC\n",
      "nothing nothing NOUN NN\n",
      "strange strange ADJ JJ\n",
      "a a DET DT\n",
      "single single ADJ JJ\n",
      "hurt hurt NOUN NN\n",
      "color color NOUN NN\n",
      "and and CCONJ CC\n",
      "an an DET DT\n",
      "arrangement arrangement NOUN NN\n",
      "in in ADP IN\n",
      "a a DET DT\n",
      "system system NOUN NN\n",
      "to to ADP IN\n",
      "pointing point VERB VBG\n",
      ". . PUNCT .\n",
      "All all ADJ PDT\n",
      "this this DET DT\n",
      "and and CCONJ CC\n",
      "not not ADV RB\n",
      "ordinary ordinary ADJ JJ\n",
      ", , PUNCT ,\n",
      "not not ADV RB\n",
      "unordered unordered ADJ JJ\n",
      "in in ADP IN\n",
      "not not ADV RB\n",
      "resembling resemble VERB VBG\n",
      ". . PUNCT .\n",
      "The the DET DT\n",
      "difference difference NOUN NN\n",
      "is be VERB VBZ\n",
      "spreading spread VERB VBG\n",
      ". . PUNCT .\n"
     ]
    }
   ],
   "source": [
    "for token in doc:\n",
    "    print(token.text, token.lemma_, token.pos_, token.tag_)"
   ]
  },
  {
   "cell_type": "code",
   "execution_count": 137,
   "metadata": {},
   "outputs": [
    {
     "data": {
      "text/plain": [
       "['and', 'or', 'but', 'for', 'nor', 'yet', 'so']"
      ]
     },
     "execution_count": 137,
     "metadata": {},
     "output_type": "execute_result"
    }
   ],
   "source": [
    "cj"
   ]
  },
  {
   "cell_type": "code",
   "execution_count": 138,
   "metadata": {},
   "outputs": [
    {
     "name": "stdout",
     "output_type": "stream",
     "text": [
      "the door in left so the o'clock and firm chief The dull o'clock head yet all\n",
      " alarm as the room quivering. the a but whenever unwell as when\n",
      " making. these position is knocking.\n"
     ]
    }
   ],
   "source": [
    "rules = {\n",
    "        \"origin\": [\"#det# #nouns# #pp# #nouns# #cj# #det# #nouns# #cj# #nouns# #adjs# #det# #adjs# #nouns# #nouns# #cj# #det#\\n #nouns# #pp# #det# #nouns# #verbs#. #det# #det# #cj# #advs# #adjs# #pp# #advs#\\n #verbs#. #det# #nouns# is #verbs#.\"],\n",
    "        \"pp\": pp, \n",
    "        \"verbs\": verbs,\n",
    "        \"adjs\": adjs,\n",
    "        \"nouns\": nouns,\n",
    "        \"advs\": advs,\n",
    "        \"det\": det,\n",
    "        \"cj\": cj,\n",
    "}\n",
    "grammar = tracery.Grammar(rules)\n",
    "print(grammar.flatten(\"#origin#\"))"
   ]
  },
  {
   "cell_type": "code",
   "execution_count": null,
   "metadata": {},
   "outputs": [],
   "source": []
  },
  {
   "cell_type": "code",
   "execution_count": null,
   "metadata": {},
   "outputs": [],
   "source": []
  }
 ],
 "metadata": {
  "kernelspec": {
   "display_name": "Python 3",
   "language": "python",
   "name": "python3"
  },
  "language_info": {
   "codemirror_mode": {
    "name": "ipython",
    "version": 3
   },
   "file_extension": ".py",
   "mimetype": "text/x-python",
   "name": "python",
   "nbconvert_exporter": "python",
   "pygments_lexer": "ipython3",
   "version": "3.7.1"
  }
 },
 "nbformat": 4,
 "nbformat_minor": 2
}
