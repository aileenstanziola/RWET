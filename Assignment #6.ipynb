{
 "cells": [
  {
   "cell_type": "code",
   "execution_count": 1,
   "metadata": {},
   "outputs": [],
   "source": [
    "import annoy"
   ]
  },
  {
   "cell_type": "code",
   "execution_count": 2,
   "metadata": {},
   "outputs": [],
   "source": [
    "import numpy as np"
   ]
  },
  {
   "cell_type": "code",
   "execution_count": 3,
   "metadata": {},
   "outputs": [],
   "source": [
    "import json"
   ]
  },
  {
   "cell_type": "code",
   "execution_count": 4,
   "metadata": {},
   "outputs": [],
   "source": [
    "color_data = json.loads(open(\"xkcd.json\").read())"
   ]
  },
  {
   "cell_type": "code",
   "execution_count": 5,
   "metadata": {},
   "outputs": [],
   "source": [
    "# '#aabbcc' -> np.array([x,y,z])\n",
    "def hex_to_int(s):\n",
    "    s = s.lstrip('#')\n",
    "    return np.array([int(s[:2], 16), int(s[2:4], 16), int(s[4:6], 16)])"
   ]
  },
  {
   "cell_type": "code",
   "execution_count": 6,
   "metadata": {},
   "outputs": [],
   "source": [
    "colors = {}\n",
    "for item in color_data['colors']:\n",
    "    colors[item[\"color\"]] = hex_to_int(item[\"hex\"])"
   ]
  },
  {
   "cell_type": "code",
   "execution_count": 7,
   "metadata": {},
   "outputs": [],
   "source": [
    "from simpleneighbors import SimpleNeighbors"
   ]
  },
  {
   "cell_type": "code",
   "execution_count": 8,
   "metadata": {},
   "outputs": [],
   "source": [
    "color_lookup = SimpleNeighbors(3, 'euclidean')\n",
    "for name, vec in colors.items():\n",
    "    color_lookup.add_one(name,vec)\n",
    "color_lookup.build()"
   ]
  },
  {
   "cell_type": "code",
   "execution_count": 9,
   "metadata": {},
   "outputs": [],
   "source": [
    "import spacy"
   ]
  },
  {
   "cell_type": "code",
   "execution_count": 10,
   "metadata": {},
   "outputs": [],
   "source": [
    "nlp = spacy.load('en_core_web_md')"
   ]
  },
  {
   "cell_type": "code",
   "execution_count": 12,
   "metadata": {},
   "outputs": [
    {
     "data": {
      "text/plain": [
       "array([ 1.3949e-01,  5.3453e-01, -2.5247e-01, -1.2565e-01,  4.8748e-02,\n",
       "        1.5244e-01,  1.9906e-01, -6.5970e-02,  1.2883e-01,  2.0559e+00,\n",
       "       -4.4339e-01, -1.0174e-01,  2.7118e-01, -1.2429e-01, -4.5753e-01,\n",
       "        5.5878e-02, -3.0395e-01,  7.9543e-01, -2.9060e-01,  5.1908e-01,\n",
       "        1.6909e-01, -3.2743e-01,  2.0606e-01, -8.3885e-02,  1.9696e-01,\n",
       "        3.2847e-01,  8.7838e-02, -1.2784e-01,  3.0979e-01,  2.0692e-01,\n",
       "       -8.5855e-02,  5.4790e-01, -4.2344e-01,  3.4573e-01,  2.2921e-01,\n",
       "       -2.1538e-01,  9.1481e-02, -2.7801e-01, -3.4183e-01, -1.3067e-01,\n",
       "       -2.4061e-01,  2.5755e-01,  1.3109e-01,  3.2772e-01,  2.0634e-01,\n",
       "        2.9093e-01, -4.2160e-01,  4.8984e-01,  2.4333e-01,  3.7458e-02,\n",
       "       -1.6604e-01, -1.7116e-01, -1.6620e-01, -3.1993e-01,  5.4011e-01,\n",
       "        2.6113e-01, -5.2505e-01, -1.3453e-01, -1.2183e-01, -3.8383e-02,\n",
       "        1.3733e-01, -3.5703e-01, -7.0702e-01,  4.5393e-02, -8.0799e-02,\n",
       "       -3.7749e-02,  2.1431e-02,  2.2084e-01, -7.3788e-02, -2.6571e-01,\n",
       "       -2.5704e-01,  1.3375e-01, -2.0073e-01,  1.2515e-01,  1.0129e-01,\n",
       "        2.9280e-01, -5.7409e-02,  9.4001e-02,  2.1467e-02, -1.6589e-01,\n",
       "        2.8369e-01,  2.4150e-01,  1.2153e-01, -2.1843e-01,  3.1459e-01,\n",
       "       -5.6409e-01,  3.2922e-02, -2.7864e-01,  2.9464e-01, -2.2066e-01,\n",
       "       -9.7385e-02,  4.8704e-02, -2.4430e-01,  3.0807e-01,  1.1670e-01,\n",
       "        3.8387e-01,  1.3172e-01,  1.7848e-01, -3.9812e-01, -3.9390e-01,\n",
       "        2.5316e-01, -1.5681e-01, -1.7198e-01, -1.1697e-01,  2.0308e-01,\n",
       "        5.8334e-02,  3.2858e-02,  6.5567e-02, -2.5386e-02, -1.9887e-02,\n",
       "        2.4890e-01,  7.2835e-02,  1.1936e-03, -3.9003e-01,  1.8767e-01,\n",
       "       -1.6083e-01, -2.8072e-02,  2.3153e-01,  2.7805e-01, -1.4002e-02,\n",
       "        2.8585e-02, -3.4755e-01,  1.4150e-01,  5.3722e-02,  7.1957e-01,\n",
       "        3.9155e-01,  2.8079e-02, -3.8999e-02,  5.8233e-02,  4.5280e-02,\n",
       "       -4.3391e-01, -1.5049e-01, -3.9168e-01, -5.3075e-03,  1.4706e-03,\n",
       "        1.7932e-02, -2.7675e-01, -2.3026e-01, -4.4797e-02, -1.1469e-01,\n",
       "       -3.2899e+00,  3.6923e-02,  3.6969e-01,  5.2848e-02, -5.3959e-01,\n",
       "       -2.2668e-01, -1.1084e-01,  2.7184e-01, -2.7381e-01, -3.9751e-01,\n",
       "       -1.5191e-01,  4.0173e-01,  2.5833e-01,  1.0584e-01,  3.9291e-02,\n",
       "       -1.4396e-01, -1.6432e-01, -6.4371e-01, -3.4860e-01, -2.4962e-01,\n",
       "        5.4873e-02,  3.9090e-01, -1.0165e-01,  1.6311e-03,  1.7129e-01,\n",
       "        2.1923e-01,  3.5316e-01, -4.9350e-01,  9.3036e-02,  1.2980e-01,\n",
       "       -1.1907e-01, -1.1330e-01,  6.0814e-01, -3.7138e-01,  4.7935e-01,\n",
       "        2.0217e-01, -2.7977e-01,  7.3912e-02,  1.2773e-01, -3.6454e-01,\n",
       "        2.1015e-01, -3.6394e-01,  1.5769e-01, -1.7778e-01, -1.3651e-01,\n",
       "        3.9400e-02, -5.3600e-01, -4.2339e-01, -4.4968e-02, -1.6835e-01,\n",
       "       -8.8618e-02, -2.6202e-01, -1.3446e-01, -5.6185e-01, -1.4444e-02,\n",
       "        1.4500e-01, -4.1110e-02, -3.7047e-01,  1.8296e-01,  4.6800e-01,\n",
       "       -3.3030e-01, -2.1653e-01,  1.4545e-02, -9.7622e-02,  3.0537e-01,\n",
       "       -1.5802e-01,  1.3984e-01,  2.2848e-01, -8.3370e-02, -4.0741e-02,\n",
       "       -4.5021e-01, -7.9202e-02, -8.9400e-03, -5.0169e-01, -1.3536e-01,\n",
       "        3.1606e-01,  3.3749e-01, -2.5901e-01,  2.6496e-01,  1.4153e-01,\n",
       "        1.1648e-01,  1.9042e-01, -3.6783e-03,  3.0213e-01, -7.2898e-02,\n",
       "        6.1077e-02,  2.9146e-01,  1.3043e-01,  1.0200e-01, -1.0795e-01,\n",
       "       -5.1278e-01,  1.4385e-01, -5.2894e-01,  6.2404e-02, -1.5090e-01,\n",
       "       -2.3326e-01, -2.0287e-01, -9.3445e-02, -1.1326e-02,  2.2487e-01,\n",
       "        1.3957e-01, -1.4241e-02, -1.8765e-02,  3.8323e-01,  6.4715e-02,\n",
       "       -1.0319e-01, -6.6647e-01, -1.0057e-01,  7.7504e-02,  3.7604e-01,\n",
       "        2.4435e-01,  5.0350e-02, -3.9705e-01, -1.1248e-01, -1.4296e-01,\n",
       "        3.3583e-01,  1.7513e-01, -5.0436e-02, -1.3719e-01,  5.5704e-02,\n",
       "        5.5732e-02,  3.1925e-01, -2.6293e-01,  3.0683e-01,  9.4407e-02,\n",
       "        3.4440e-01,  3.0324e-01,  4.1765e-01, -1.0427e-01,  4.1850e-01,\n",
       "       -6.7893e-01, -1.6072e-01, -8.2023e-01, -1.4762e-02, -9.1018e-02,\n",
       "       -8.9553e-03, -2.6122e-02, -1.3455e-01,  1.9263e-01,  3.3113e-01,\n",
       "       -1.5297e-01, -3.6822e-01, -1.4649e-01, -3.1547e-01,  1.3963e-01,\n",
       "        2.9885e-01,  6.7198e-01,  2.2049e-01, -1.8279e-01, -2.4811e-01,\n",
       "       -1.2438e-01,  1.7844e-01, -9.9469e-02,  8.6822e-03,  8.9213e-02,\n",
       "       -7.5513e-02, -4.9069e-02, -1.5228e-02,  8.8408e-02,  3.0217e-01],\n",
       "      dtype=float32)"
      ]
     },
     "execution_count": 12,
     "metadata": {},
     "output_type": "execute_result"
    }
   ],
   "source": [
    "nlp.vocab['love'].vector"
   ]
  },
  {
   "cell_type": "code",
   "execution_count": 13,
   "metadata": {},
   "outputs": [],
   "source": [
    "def vec(s):\n",
    "    return nlp.vocab[s].vector"
   ]
  },
  {
   "cell_type": "code",
   "execution_count": 14,
   "metadata": {},
   "outputs": [],
   "source": [
    "lookup = SimpleNeighbors(300)\n",
    "for item in nlp.vocab:\n",
    "    if item.prob > -15 and item.is_lower:\n",
    "        lookup.add_one(item.text, item.vector)\n",
    "lookup.build()"
   ]
  },
  {
   "cell_type": "code",
   "execution_count": 15,
   "metadata": {},
   "outputs": [
    {
     "data": {
      "text/plain": [
       "['propensity',\n",
       " 'compromise',\n",
       " 'flaws',\n",
       " 'inevitably',\n",
       " 'enchantments',\n",
       " 'troubles',\n",
       " 'breakout',\n",
       " 'composure',\n",
       " 'circumstances',\n",
       " 'irreversible',\n",
       " 'reasons',\n",
       " 'understandable']"
      ]
     },
     "execution_count": 15,
     "metadata": {},
     "output_type": "execute_result"
    }
   ],
   "source": [
    "lookup.nearest(vec('new york'))"
   ]
  },
  {
   "cell_type": "code",
   "execution_count": 23,
   "metadata": {},
   "outputs": [
    {
     "data": {
      "text/plain": [
       "['america',\n",
       " 'american',\n",
       " 'americana',\n",
       " 'usa',\n",
       " 'africa',\n",
       " 'mexico',\n",
       " 'asia',\n",
       " 'canada',\n",
       " 'britain',\n",
       " 'england',\n",
       " 'australia',\n",
       " 'argentina']"
      ]
     },
     "execution_count": 23,
     "metadata": {},
     "output_type": "execute_result"
    }
   ],
   "source": [
    "lookup.nearest(vec('America'))"
   ]
  },
  {
   "cell_type": "code",
   "execution_count": 27,
   "metadata": {},
   "outputs": [],
   "source": [
    "jd_doc = nlp(open(\"themorelovingone.txt\").read())"
   ]
  },
  {
   "cell_type": "code",
   "execution_count": 28,
   "metadata": {},
   "outputs": [],
   "source": [
    "import random"
   ]
  },
  {
   "cell_type": "code",
   "execution_count": 33,
   "metadata": {},
   "outputs": [
    {
     "name": "stdout",
     "output_type": "stream",
     "text": [
      "seeing up at the superstar, I why quite well\n",
      "That, for all they hospitalized, I can go to nobody,\n",
      "But on eternal hopelessness an the far\n",
      "We also to spectre from mind or demons.\n",
      "\n",
      "How not we know it went star to bleed\n",
      "With a fervor for us we if not departure?\n",
      "If unless sympathies ablenot can,\n",
      "forget the more joyous one if me.\n",
      "\n",
      "lovers as I wonder I think\n",
      "Of diva but how not get a freakin,\n",
      "I ablenot, now I if them, n't\n",
      "I missed one terribly all days.\n",
      "\n",
      "remained all starred to vanishes or shitless,\n",
      "I would taught to sure at an stuck sunsets\n",
      "And felt has percent sickly crowning,\n",
      "Though this if going me a quite days."
     ]
    }
   ],
   "source": [
    "for word in jd_doc:\n",
    "    if word.pos_ in ('NOUN', 'ADJ', 'VERB'):\n",
    "                     print(random.choice(lookup.nearest(word.vector)), end=\"\")\n",
    "    else:\n",
    "                     print(word.text, end=\"\")\n",
    "    print (word.whitespace_, end=\"\")"
   ]
  },
  {
   "cell_type": "code",
   "execution_count": 30,
   "metadata": {},
   "outputs": [],
   "source": [
    "poem = open(\"themorelovingone.txt\").read()"
   ]
  },
  {
   "cell_type": "code",
   "execution_count": 31,
   "metadata": {},
   "outputs": [
    {
     "name": "stdout",
     "output_type": "stream",
     "text": [
      "Looking up at the stars, I know quite well\n",
      "That, for all they care, I can go to hell,\n",
      "But on earth indifference is the least\n",
      "We have to dread from man or beast.\n",
      "\n",
      "How should we like it were stars to burn\n",
      "With a passion for us we could not return?\n",
      "If equal affection cannot be,\n",
      "Let the more loving one be me.\n",
      "\n",
      "Admirer as I think I am\n",
      "Of stars that do not give a damn,\n",
      "I cannot, now I see them, say\n",
      "I missed one terribly all day.\n",
      "\n",
      "Were all stars to disappear or die,\n",
      "I should learn to look at an empty sky\n",
      "And feel its total dark sublime,\n",
      "Though this might take me a little time.\n"
     ]
    }
   ],
   "source": [
    "print(poem)"
   ]
  },
  {
   "cell_type": "code",
   "execution_count": 34,
   "metadata": {},
   "outputs": [],
   "source": [
    "import pronouncing as pr"
   ]
  },
  {
   "cell_type": "code",
   "execution_count": 35,
   "metadata": {},
   "outputs": [],
   "source": [
    "import random as harold "
   ]
  },
  {
   "cell_type": "code",
   "execution_count": 76,
   "metadata": {},
   "outputs": [
    {
     "data": {
      "text/plain": [
       "'W EH1 L'"
      ]
     },
     "execution_count": 76,
     "metadata": {},
     "output_type": "execute_result"
    }
   ],
   "source": [
    "pr.phones_for_word(\"well\")[0]"
   ]
  },
  {
   "cell_type": "code",
   "execution_count": 77,
   "metadata": {},
   "outputs": [
    {
     "data": {
      "text/plain": [
       "'L IY1 S T'"
      ]
     },
     "execution_count": 77,
     "metadata": {},
     "output_type": "execute_result"
    }
   ],
   "source": [
    "pr.phones_for_word(\"least\")[0]"
   ]
  },
  {
   "cell_type": "code",
   "execution_count": 78,
   "metadata": {},
   "outputs": [
    {
     "data": {
      "text/plain": [
       "'B ER1 N'"
      ]
     },
     "execution_count": 78,
     "metadata": {},
     "output_type": "execute_result"
    }
   ],
   "source": [
    "pr.phones_for_word(\"burn\")[0]"
   ]
  },
  {
   "cell_type": "code",
   "execution_count": 79,
   "metadata": {},
   "outputs": [
    {
     "data": {
      "text/plain": [
       "'B IY1'"
      ]
     },
     "execution_count": 79,
     "metadata": {},
     "output_type": "execute_result"
    }
   ],
   "source": [
    "pr.phones_for_word(\"be\")[0]"
   ]
  },
  {
   "cell_type": "code",
   "execution_count": 80,
   "metadata": {},
   "outputs": [
    {
     "data": {
      "text/plain": [
       "'D AE1 M'"
      ]
     },
     "execution_count": 80,
     "metadata": {},
     "output_type": "execute_result"
    }
   ],
   "source": [
    "pr.phones_for_word(\"damn\")[0]"
   ]
  },
  {
   "cell_type": "code",
   "execution_count": 81,
   "metadata": {},
   "outputs": [
    {
     "data": {
      "text/plain": [
       "'S EY1'"
      ]
     },
     "execution_count": 81,
     "metadata": {},
     "output_type": "execute_result"
    }
   ],
   "source": [
    "pr.phones_for_word(\"say\")[0]"
   ]
  },
  {
   "cell_type": "code",
   "execution_count": 82,
   "metadata": {},
   "outputs": [
    {
     "data": {
      "text/plain": [
       "'D AY1'"
      ]
     },
     "execution_count": 82,
     "metadata": {},
     "output_type": "execute_result"
    }
   ],
   "source": [
    "pr.phones_for_word(\"die\")[0]"
   ]
  },
  {
   "cell_type": "code",
   "execution_count": 83,
   "metadata": {},
   "outputs": [
    {
     "data": {
      "text/plain": [
       "'S AH0 B L AY1 M'"
      ]
     },
     "execution_count": 83,
     "metadata": {},
     "output_type": "execute_result"
    }
   ],
   "source": [
    "pr.phones_for_word(\"sublime\")[0]"
   ]
  },
  {
   "cell_type": "code",
   "execution_count": 84,
   "metadata": {},
   "outputs": [],
   "source": [
    "phones1 = pr.rhymes(\"well\")"
   ]
  },
  {
   "cell_type": "code",
   "execution_count": 85,
   "metadata": {},
   "outputs": [],
   "source": [
    "phones2 = pr.rhymes(\"least\")"
   ]
  },
  {
   "cell_type": "code",
   "execution_count": 86,
   "metadata": {},
   "outputs": [],
   "source": [
    "phones3 = pr.rhymes(\"burn\")"
   ]
  },
  {
   "cell_type": "code",
   "execution_count": 87,
   "metadata": {},
   "outputs": [],
   "source": [
    "phones4 = pr.rhymes(\"be\")"
   ]
  },
  {
   "cell_type": "code",
   "execution_count": 88,
   "metadata": {},
   "outputs": [],
   "source": [
    "phones5 = pr.rhymes(\"damn\")"
   ]
  },
  {
   "cell_type": "code",
   "execution_count": 89,
   "metadata": {},
   "outputs": [],
   "source": [
    "phones6 = pr.rhymes(\"say\")"
   ]
  },
  {
   "cell_type": "code",
   "execution_count": 90,
   "metadata": {},
   "outputs": [],
   "source": [
    "phones7 = pr.rhymes(\"die\")"
   ]
  },
  {
   "cell_type": "code",
   "execution_count": 91,
   "metadata": {},
   "outputs": [],
   "source": [
    "phones8 = pr.rhymes(\"sublime\")"
   ]
  },
  {
   "cell_type": "code",
   "execution_count": 92,
   "metadata": {},
   "outputs": [],
   "source": [
    "import tracery"
   ]
  },
  {
   "cell_type": "code",
   "execution_count": 93,
   "metadata": {},
   "outputs": [],
   "source": [
    "from tracery.modifiers import base_english"
   ]
  },
  {
   "cell_type": "code",
   "execution_count": 108,
   "metadata": {},
   "outputs": [
    {
     "name": "stdout",
     "output_type": "stream",
     "text": [
      "Looking up at the stars, I know quite expel \n",
      " That, for all they care, I can go to rachelle, \n",
      "But on earth indifference is the weast, \n",
      "We have to dread from man or deceased. \n",
      "How should we like it were stars to urn \n",
      "With a passion for us we could not new-bern? \n",
      "If equal affection cannot gee, \n",
      "Let the more loving one be sightsee. \n",
      "Admirer as I think I damm \n",
      "Of stars that do not give a sahm,\n",
      "I cannot, now I see them, grey \n",
      "I missed one terribly all quay. \n",
      "Were all stars to disappear or sai, \n",
      "I should learn to look at an empty ngai \n",
      "And feel its total dark all-time, \n",
      "Though this might take me a little chime.\n",
      "\n"
     ]
    }
   ],
   "source": [
    "rules = {\n",
    "        \"origin\": \"Looking up at the stars, I know quite #phones1# \\n That, for all they care, I can go to #phones1#, \\nBut on earth indifference is the #phones2#, \\nWe have to dread from man or #phones2#. \\nHow should we like it were stars to #phones3# \\nWith a passion for us we could not #phones3#? \\nIf equal affection cannot #phones4#, \\nLet the more loving one be #phones4#. \\nAdmirer as I think I #phones5# \\nOf stars that do not give a #phones5#,\\nI cannot, now I see them, #phones6# \\nI missed one terribly all #phones6#. \\nWere all stars to disappear or #phones7#, \\nI should learn to look at an empty #phones7# \\nAnd feel its total dark #phones8#, \\nThough this might take me a little #phones8#.\"\n",
    "    ,\n",
    "        \"phones1\": phones1, \n",
    "        \"phones2\": phones2,\n",
    "        \"phones3\": phones3,\n",
    "        \"phones4\": phones4,\n",
    "        \"phones5\": phones5,\n",
    "        \"phones6\": phones6,\n",
    "        \"phones7\": phones7,\n",
    "        \"phones8\": phones8,\n",
    "}\n",
    "grammar = tracery.Grammar(rules)\n",
    "grammar.add_modifiers(base_english)\n",
    "print(grammar.flatten(\"#origin#\"+\"\\n\"))"
   ]
  },
  {
   "cell_type": "code",
   "execution_count": null,
   "metadata": {},
   "outputs": [],
   "source": []
  },
  {
   "cell_type": "code",
   "execution_count": null,
   "metadata": {},
   "outputs": [],
   "source": []
  }
 ],
 "metadata": {
  "kernelspec": {
   "display_name": "Python 3",
   "language": "python",
   "name": "python3"
  },
  "language_info": {
   "codemirror_mode": {
    "name": "ipython",
    "version": 3
   },
   "file_extension": ".py",
   "mimetype": "text/x-python",
   "name": "python",
   "nbconvert_exporter": "python",
   "pygments_lexer": "ipython3",
   "version": "3.7.1"
  }
 },
 "nbformat": 4,
 "nbformat_minor": 2
}
